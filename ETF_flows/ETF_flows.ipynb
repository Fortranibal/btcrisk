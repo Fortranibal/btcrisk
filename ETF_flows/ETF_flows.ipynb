{
 "cells": [
  {
   "cell_type": "code",
   "execution_count": null,
   "metadata": {},
   "outputs": [],
   "source": []
  },
  {
   "cell_type": "markdown",
   "metadata": {},
   "source": [
    "The BTC ETF approvals are a significant milestone in the history of BTC. BTC is commonly moved by liquidity and is therefore correlated with the SP500 and general markets. Through the ETF, higher access to BTC has been granted to a general public, including traditional finance institutions and market participants.\n",
    "\n",
    "Some of the major actors in the ETF scene as of 19/03/2024 are:\n",
    "\n",
    "- BlackRock (IBIT), \n",
    "- Grayscale Bitcoin Trust (GBTC), \n",
    "- Fidelity (FBTC), \n",
    "- Ark Invest/21Shares (ARKB),\n",
    "- Bitwise (BITB), Franklin (EZBC),\n",
    "- Invesco/Galaxy (BTCO),\n",
    "- VanEck (HODL),\n",
    "- Valkyrie (BRRR),\n",
    "- WisdomTree (BTCW)."
   ]
  },
  {
   "cell_type": "markdown",
   "metadata": {},
   "source": [
    "https://www.theblock.co/data/crypto-markets/bitcoin-etf/spot-bitcoin-etf-flows"
   ]
  }
 ],
 "metadata": {
  "language_info": {
   "name": "python"
  }
 },
 "nbformat": 4,
 "nbformat_minor": 2
}
